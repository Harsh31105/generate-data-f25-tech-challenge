{
 "cells": [
  {
   "cell_type": "code",
   "id": "initial_id",
   "metadata": {
    "collapsed": true,
    "ExecuteTime": {
     "end_time": "2025-08-20T20:25:29.594839Z",
     "start_time": "2025-08-20T20:25:29.591047Z"
    }
   },
   "source": [
    "import pandas as pd\n",
    "\n",
    "def train_test_split_time(df: pd.DataFrame, aus_port: str, for_port: str, test_length: int = 9):\n",
    "    \"\"\"\n",
    "    Splits time-series data into train and test sets for a given city pair.\n",
    "\n",
    "    Parameters:\n",
    "        df: DataFrame with the dataset!\n",
    "        aus_port: It refers to the Australian Port provided in the route.\n",
    "        for_port: It refers to the Foreign Port provided in the route.\n",
    "        horizon (int): Number of months to keep for testing. Kept as 9 (in between 6-12 months).\n",
    "    \"\"\"\n",
    "    route_df = (df[((df[\"AustralianPort\"] == aus_port) & (df[\"ForeignPort\"] == for_port))]\n",
    "                .sort_values(\"MonthYear\").reset_index(drop=True))\n",
    "\n",
    "    # split by horizon\n",
    "    train = route_df.iloc[:-test_length]\n",
    "    test = route_df.iloc[-test_length:]\n",
    "\n",
    "    return train, test"
   ],
   "outputs": [],
   "execution_count": 68
  },
  {
   "metadata": {
    "ExecuteTime": {
     "end_time": "2025-08-20T20:25:30.988207Z",
     "start_time": "2025-08-20T20:25:30.981732Z"
    }
   },
   "cell_type": "code",
   "source": [
    "train, test = train_test_split_time(df=df, aus_port=\"Sydney\", for_port=\"Auckland\")\n",
    "\n",
    "print(\"Train range:\", train[\"MonthYear\"].min(), \"→\", train[\"MonthYear\"].max())\n",
    "print(\"Test range:\", test[\"MonthYear\"].min(), \"→\", test[\"MonthYear\"].max())"
   ],
   "id": "211d8ab583f0544f",
   "outputs": [
    {
     "name": "stdout",
     "output_type": "stream",
     "text": [
      "Train range: 1985-01-01 → 1988-09-01\n",
      "Test range: 1988-10-01 → 1989-06-01\n"
     ]
    }
   ],
   "execution_count": 69
  }
 ],
 "metadata": {
  "kernelspec": {
   "display_name": "Python 3",
   "language": "python",
   "name": "python3"
  },
  "language_info": {
   "codemirror_mode": {
    "name": "ipython",
    "version": 2
   },
   "file_extension": ".py",
   "mimetype": "text/x-python",
   "name": "python",
   "nbconvert_exporter": "python",
   "pygments_lexer": "ipython2",
   "version": "2.7.6"
  }
 },
 "nbformat": 4,
 "nbformat_minor": 5
}
