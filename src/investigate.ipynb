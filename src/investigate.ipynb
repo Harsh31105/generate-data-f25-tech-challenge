{
 "cells": [
  {
   "metadata": {
    "ExecuteTime": {
     "end_time": "2025-08-19T15:11:34.094751Z",
     "start_time": "2025-08-19T15:11:34.092929Z"
    }
   },
   "cell_type": "code",
   "source": [
    "import pandas as pd\n",
    "import matplotlib.pyplot as plt\n",
    "import seaborn as sns"
   ],
   "id": "b3ef5a99340adaa8",
   "outputs": [],
   "execution_count": 41
  },
  {
   "metadata": {
    "ExecuteTime": {
     "end_time": "2025-08-19T20:14:55.893804Z",
     "start_time": "2025-08-19T20:14:55.877532Z"
    }
   },
   "cell_type": "code",
   "source": [
    "def pivot_trends(df :pd.DataFrame, pivot: str, trend: str, split :str = None):\n",
    "    \"\"\"\n",
    "    This method analyzes the port- and route-traffic trends from the given data, for a given\n",
    "    traffic type specification, and the \"time\" trend to be analyzed.\n",
    "\n",
    "    Parameters:\n",
    "    -----------\n",
    "    df :pd.DataFrame\n",
    "        The dataset containing the traffic data.\n",
    "    pivot :str\n",
    "        The pivot refers to the ports/given category with which the data is \"pivoted\" around or centered around.\n",
    "    trend :str\n",
    "        The temporal grouping of the trend (5): \"MonthYear\", \"QuarterYear\", \"Year\" AND \"MonthNum\", \"Quarter\" (for seasonal shifts).\n",
    "    \"\"\"\n",
    "    if trend == \"QuarterYear\":\n",
    "        df[trend] = df[\"Year\"].astype(str) + \"-Q\" + df[\"Quarter\"].astype(str)\n",
    "\n",
    "    ref = \"ForeignPort\" if pivot == \"AustralianPort\" else \"AustralianPort\"\n",
    "\n",
    "    # --- Trend 1-4: Count of Unique Ports (C.O.U.P) being interacted with ---\n",
    "    if split is None:\n",
    "        trend1 = (df.groupby([trend, pivot])[ref].nunique()\n",
    "              .reset_index(name=\"COUP\"))\n",
    "\n",
    "        num = len(trend1[pivot].unique())\n",
    "        hls_colors = sns.husl_palette(n_colors=num, s=1, l=0.5)\n",
    "        colors = [hls_colors[i % num] for i in range(0, num, 2)] + [hls_colors[i] for i in range(1, num, 2)]\n",
    "\n",
    "        plt.figure(figsize=(12,6))\n",
    "        for i, port in enumerate(trend1[pivot].unique()):\n",
    "            port_data = trend1[trend1[pivot] == port]\n",
    "            plt.plot(port_data[trend], port_data[\"COUP\"], marker=\"o\", label=port, color=colors[i])\n",
    "\n",
    "        plt.title(f\"Count of Unique Ports (COUP) per {pivot} over {trend}\")\n",
    "        plt.xlabel(trend)\n",
    "        plt.ylabel(\"COUP\")\n",
    "        plt.legend(title=pivot, bbox_to_anchor=(1.05, 1), loc='upper left')\n",
    "        plt.xticks(rotation=45)\n",
    "        plt.tight_layout()\n",
    "        plt.show()\n",
    "\n",
    "    else:\n",
    "        trend1 = (df.groupby([trend, pivot, split])[ref].nunique()\n",
    "              .reset_index(name=\"COUP\"))\n",
    "\n",
    "        for country in trend1[split].unique():\n",
    "            country_data = trend1[trend1[split] == country]\n",
    "\n",
    "            num = len(country_data[pivot].unique())\n",
    "            hls_colors = sns.husl_palette(n_colors=num, s=1, l=0.5)\n",
    "            colors = [hls_colors[i % num] for i in range(0, num, 2)] + \\\n",
    "                     [hls_colors[i] for i in range(1, num, 2)]\n",
    "\n",
    "            plt.figure(figsize=(12,6))\n",
    "            for i, port in enumerate(country_data[pivot].unique()):\n",
    "                port_data = country_data[country_data[pivot] == port]\n",
    "                plt.plot(port_data[trend], port_data[\"COUP\"],\n",
    "                         marker=\"o\", label=port, color=colors[i])\n",
    "\n",
    "            plt.title(f\"Unique {pivot} per {trend} in {country}\")\n",
    "            plt.xlabel(trend)\n",
    "            plt.ylabel(\"COUP\")\n",
    "            plt.legend(title=pivot, bbox_to_anchor=(1.05, 1), loc='upper left')\n",
    "            plt.xticks(rotation=45)\n",
    "            plt.tight_layout()\n",
    "            plt.show()\n"
   ],
   "id": "249317a94275b152",
   "outputs": [],
   "execution_count": 80
  },
  {
   "metadata": {
    "ExecuteTime": {
     "end_time": "2025-08-19T21:26:55.909626Z",
     "start_time": "2025-08-19T21:26:55.877192Z"
    }
   },
   "cell_type": "code",
   "source": [
    "df = pd.read_csv(\"../data/aeroconnect_cleaned.csv\")\n",
    "\n",
    "traffic = [\"PassengersTotal\", \"FreightTotal\", \"MailTotal\"]\n",
    "trend = [\"MonthYear\", \"QuarterYear\", \"Year\", \"MonthNum\", \"Quarter\"]\n",
    "\n",
    "pivot_trends(df, pivot=\"AustralianPort\", trend=\"QuarterYear\")\n",
    "pivot_trends(df, pivot=\"ForeignPort\", trend=\"Year\", split=\"Country\")\n",
    "# (df, pivot=\"Country\", trend=\"Year\", split=\"Continent\")\n",
    "pivot_trends(df, pivot=\"Continent\", trend=\"QuarterYear\")"
   ],
   "id": "adaa9fce10bef62b",
   "outputs": [],
   "execution_count": 82
  },
  {
   "metadata": {
    "ExecuteTime": {
     "end_time": "2025-08-19T23:14:33.528838Z",
     "start_time": "2025-08-19T23:14:33.520639Z"
    }
   },
   "cell_type": "code",
   "source": [
    "def traffic_trends_58(df :pd.DataFrame, pivot: str, traffic :str, trend: str, split :str = None):\n",
    "    \"\"\"\n",
    "    This method analyzes the port- and route-traffic trends from the given data, for a given\n",
    "    traffic type specification, and the \"time\" trend to be analyzed.\n",
    "\n",
    "    Parameters:\n",
    "    -----------\n",
    "    df :pd.DataFrame\n",
    "        The dataset containing the traffic data.\n",
    "    pivot :str\n",
    "        The pivot refers to the ports/given category with which the data is \"pivoted\" around or centered around.\n",
    "    trend :str\n",
    "        The temporal grouping of the trend (5): \"MonthYear\", \"QuarterYear\", \"Year\" AND \"MonthNum\", \"Quarter\" (for seasonal shifts).\n",
    "    \"\"\"\n",
    "    if trend == \"QuarterYear\":\n",
    "        df[trend] = df[\"Year\"].astype(str) + \"-Q\" + df[\"Quarter\"].astype(str)\n",
    "\n",
    "    # --- Trend 5-8: Activity of Port in terms of \"Traffic\" ---\n",
    "    if split is None:\n",
    "        trend_df = (df.groupby([trend, pivot])[traffic].sum()\n",
    "          .reset_index(name=\"TrafficSum\"))\n",
    "\n",
    "        num = len(trend_df[pivot].unique())\n",
    "        hls_colors = sns.husl_palette(n_colors=num, s=1, l=0.5)\n",
    "        colors = [hls_colors[i % num] for i in range(0, num, 2)] + [hls_colors[i] for i in range(1, num, 2)]\n",
    "\n",
    "        plt.figure(figsize=(12,6))\n",
    "        for i, port in enumerate(trend_df[pivot].unique()):\n",
    "            port_data = trend_df[trend_df[pivot] == port]\n",
    "            plt.plot(port_data[trend], port_data[\"TrafficSum\"], marker=\"o\", label=port, color=colors[i])\n",
    "\n",
    "        plt.title(f\"Sum of {traffic} per {pivot} over {trend}\")\n",
    "        plt.xlabel(trend)\n",
    "        plt.ylabel(f\"Total {traffic}\")\n",
    "        plt.legend(title=pivot, bbox_to_anchor=(1.05, 1), loc='upper left')\n",
    "        plt.xticks(rotation=45)\n",
    "        plt.tight_layout()\n",
    "        plt.show()\n",
    "\n",
    "    else:\n",
    "        trend_df = (df.groupby([trend, pivot, split])[traffic].sum().reset_index(name=\"TrafficSum\"))\n",
    "\n",
    "        for country in trend_df[split].unique():\n",
    "            country_data = trend_df[trend_df[split] == country]\n",
    "\n",
    "            num = len(country_data[pivot].unique())\n",
    "            hls_colors = sns.husl_palette(n_colors=num, s=1, l=0.5)\n",
    "            colors = [hls_colors[i % num] for i in range(0, num, 2)] + \\\n",
    "                     [hls_colors[i] for i in range(1, num, 2)]\n",
    "\n",
    "            plt.figure(figsize=(12,6))\n",
    "            for i, port in enumerate(country_data[pivot].unique()):\n",
    "                port_data = country_data[country_data[pivot] == port]\n",
    "                plt.plot(port_data[trend], port_data[\"TrafficSum\"], marker=\"o\", label=port,\n",
    "                         color=colors[i])\n",
    "\n",
    "            plt.title(f\"Unique {pivot} per {trend} in {country}\")\n",
    "            plt.xlabel(trend)\n",
    "            plt.ylabel(f\"TrafficSum for {traffic}\")\n",
    "            plt.legend(title=pivot, bbox_to_anchor=(1.05, 1), loc='upper left')\n",
    "            plt.xticks(rotation=45)\n",
    "            plt.tight_layout()\n",
    "            plt.show()\n",
    "\n"
   ],
   "id": "a35b705835dd0214",
   "outputs": [],
   "execution_count": 95
  },
  {
   "metadata": {
    "ExecuteTime": {
     "end_time": "2025-08-20T06:37:43.859379Z",
     "start_time": "2025-08-20T06:37:43.857449Z"
    }
   },
   "cell_type": "code",
   "source": [
    "# Trend-5\n",
    "traffic_trends_58(df, pivot=\"AustralianPort\", traffic=\"PassengersTotal\", trend=\"QuarterYear\")\n",
    "traffic_trends_58(df, pivot=\"AustralianPort\", traffic=\"FreightTotal\", trend=\"QuarterYear\")\n",
    "traffic_trends_58(df, pivot=\"AustralianPort\", traffic=\"MailTotal\", trend=\"QuarterYear\")\n",
    "\n",
    "traffic_trends_58(df, pivot=\"ForeignPort\", traffic=\"PassengersTotal\", trend=\"QuarterYear\", split=\"Country\")\n",
    "traffic_trends_58(df, pivot=\"Country\", traffic=\"PassengersTotal\", trend=\"QuarterYear\", split=\"Continent\")\n",
    "traffic_trends_58(df, pivot=\"Continent\", traffic=\"PassengersTotal\", trend=\"QuarterYear\")"
   ],
   "id": "712deba014ca79a7",
   "outputs": [],
   "execution_count": 102
  },
  {
   "metadata": {
    "ExecuteTime": {
     "end_time": "2025-08-20T14:22:53.686061Z",
     "start_time": "2025-08-20T14:22:53.673950Z"
    }
   },
   "cell_type": "code",
   "source": [
    "# Trend-9\n",
    "route_df = (df.groupby([\"AustralianPort\", \"ForeignPort\"])[\"MailTotal\"].sum()\n",
    "            .reset_index(name=\"TrafficSum\"))\n",
    "\n",
    "route_df = route_df.sort_values(by=\"TrafficSum\", ascending=False)\n",
    "route_df.head(10)\n",
    "route_df.tail(10)"
   ],
   "id": "993eb8c64134307d",
   "outputs": [],
   "execution_count": 175
  },
  {
   "metadata": {
    "ExecuteTime": {
     "end_time": "2025-08-20T14:23:00.351851Z",
     "start_time": "2025-08-20T14:23:00.346218Z"
    }
   },
   "cell_type": "code",
   "source": [
    "# Trend-10\n",
    "route_df = (df.groupby([\"AustralianPort\", \"Country\"])[\"MailTotal\"].sum()\n",
    "            .reset_index(name=\"TrafficSum\"))\n",
    "\n",
    "route_df = route_df.sort_values(by=\"TrafficSum\", ascending=False)\n",
    "route_df.head(10)\n",
    "route_df.tail(10)"
   ],
   "id": "678dae4b900055a1",
   "outputs": [],
   "execution_count": 176
  },
  {
   "metadata": {
    "ExecuteTime": {
     "end_time": "2025-08-20T14:23:10.945404Z",
     "start_time": "2025-08-20T14:23:10.939080Z"
    }
   },
   "cell_type": "code",
   "source": [
    "# Trend-11\n",
    "route_df = (df.groupby([\"AustralianPort\", \"Continent\"])[\"MailTotal\"].sum()\n",
    "            .reset_index(name=\"TrafficSum\"))\n",
    "\n",
    "route_df = route_df.sort_values(by=\"TrafficSum\", ascending=False)\n",
    "route_df.head(10)\n",
    "route_df.tail(10)"
   ],
   "id": "adb85f8ff0bd413a",
   "outputs": [],
   "execution_count": 177
  },
  {
   "metadata": {
    "ExecuteTime": {
     "end_time": "2025-08-20T14:47:53.473768Z",
     "start_time": "2025-08-20T14:47:53.465698Z"
    }
   },
   "cell_type": "code",
   "source": [
    "def traffic_trends_by_ausport(df: pd.DataFrame, traffic: str, trend: str):\n",
    "    \"\"\"\n",
    "    For each AustralianPort, this function plots 3 separate trend graphs:\n",
    "    - Sum of traffic over time grouped by ForeignPort\n",
    "    - Sum of traffic over time grouped by Country\n",
    "    - Sum of traffic over time grouped by Continent\n",
    "\n",
    "    Parameters\n",
    "    ----------\n",
    "    df : pd.DataFrame\n",
    "        The dataset containing the traffic data.\n",
    "    traffic : str\n",
    "        The traffic metric to sum (e.g., PassengerTotal).\n",
    "    trend : str\n",
    "        The temporal grouping (\"MonthYear\", \"QuarterYear\", \"Year\", \"MonthNum\", \"Quarter\").\n",
    "    \"\"\"\n",
    "\n",
    "    if trend == \"QuarterYear\":\n",
    "        df[trend] = df[\"Year\"].astype(str) + \"-Q\" + df[\"Quarter\"].astype(str)\n",
    "\n",
    "    for aus_port in df[\"AustralianPort\"].unique():\n",
    "        port_data = df[df[\"AustralianPort\"] == aus_port]\n",
    "\n",
    "        for pivot in [\"ForeignPort\", \"Country\", \"Continent\"]:\n",
    "            trend_df = (port_data.groupby([trend, pivot])[traffic]\n",
    "                        .sum()\n",
    "                        .reset_index(name=\"TrafficSum\"))\n",
    "\n",
    "            top_categories = (trend_df.groupby(pivot)[\"TrafficSum\"]\n",
    "                              .sum()\n",
    "                              .nlargest(10)\n",
    "                              .index)\n",
    "            trend_df = trend_df[trend_df[pivot].isin(top_categories)]\n",
    "\n",
    "            num = len(trend_df[pivot].unique())\n",
    "            hls_colors = sns.husl_palette(n_colors=num, s=1, l=0.5)\n",
    "            colors = [hls_colors[i % num] for i in range(0, num, 2)] + \\\n",
    "                     [hls_colors[i] for i in range(1, num, 2)]\n",
    "\n",
    "            plt.figure(figsize=(12, 6))\n",
    "            for i, category in enumerate(trend_df[pivot].unique()):\n",
    "                cat_data = trend_df[trend_df[pivot] == category]\n",
    "                plt.plot(cat_data[trend], cat_data[\"TrafficSum\"],\n",
    "                         marker=\"o\", label=category, color=colors[i])\n",
    "\n",
    "            plt.title(f\"Total {traffic} for {aus_port} by {pivot} over {trend}\")\n",
    "            plt.xlabel(trend)\n",
    "            plt.ylabel(f\"Total {traffic}\")\n",
    "            plt.legend(title=pivot, bbox_to_anchor=(1.05, 1), loc='upper left')\n",
    "            plt.xticks(rotation=45)\n",
    "            plt.tight_layout()\n",
    "            plt.show()\n",
    "\n"
   ],
   "id": "c11dffc9994af662",
   "outputs": [],
   "execution_count": 184
  },
  {
   "metadata": {
    "ExecuteTime": {
     "end_time": "2025-08-20T15:27:29.542551Z",
     "start_time": "2025-08-20T15:27:29.538014Z"
    }
   },
   "cell_type": "code",
   "source": "traffic_trends_by_ausport(df, \"PassengersTotal\", \"QuarterYear\")",
   "id": "1e607bda07639150",
   "outputs": [],
   "execution_count": 186
  }
 ],
 "metadata": {
  "kernelspec": {
   "display_name": "Python 3",
   "language": "python",
   "name": "python3"
  },
  "language_info": {
   "codemirror_mode": {
    "name": "ipython",
    "version": 2
   },
   "file_extension": ".py",
   "mimetype": "text/x-python",
   "name": "python",
   "nbconvert_exporter": "python",
   "pygments_lexer": "ipython2",
   "version": "2.7.6"
  }
 },
 "nbformat": 4,
 "nbformat_minor": 5
}
